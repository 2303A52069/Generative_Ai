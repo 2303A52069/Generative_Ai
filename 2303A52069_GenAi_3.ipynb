{
  "nbformat": 4,
  "nbformat_minor": 0,
  "metadata": {
    "colab": {
      "provenance": [],
      "authorship_tag": "ABX9TyOjKsqgw0I/BEEX1uE7D4Z1",
      "include_colab_link": true
    },
    "kernelspec": {
      "name": "python3",
      "display_name": "Python 3"
    },
    "language_info": {
      "name": "python"
    }
  },
  "cells": [
    {
      "cell_type": "markdown",
      "metadata": {
        "id": "view-in-github",
        "colab_type": "text"
      },
      "source": [
        "<a href=\"https://colab.research.google.com/github/2303A52069/Generative_Ai/blob/main/2303A52069_GenAi_3.ipynb\" target=\"_parent\"><img src=\"https://colab.research.google.com/assets/colab-badge.svg\" alt=\"Open In Colab\"/></a>"
      ]
    },
    {
      "cell_type": "markdown",
      "source": [
        "#1"
      ],
      "metadata": {
        "id": "JoxEIOz4sCDE"
      }
    },
    {
      "cell_type": "code",
      "execution_count": null,
      "metadata": {
        "colab": {
          "base_uri": "https://localhost:8080/"
        },
        "id": "saHDG6SnsAiV",
        "outputId": "1441eb0d-1a84-43d2-f0ee-a8cfcc984129"
      },
      "outputs": [
        {
          "output_type": "stream",
          "name": "stdout",
          "text": [
            "6.531749917163161\n"
          ]
        }
      ],
      "source": [
        "import numpy as np\n",
        "\n",
        "\n",
        "import random\n",
        "x = random.uniform(-10,10)\n",
        "print(x)\n"
      ]
    },
    {
      "cell_type": "code",
      "source": [
        "eta=0.001\n",
        "No_of_iterations=1000\n"
      ],
      "metadata": {
        "id": "rzRWxyQ1sddR"
      },
      "execution_count": null,
      "outputs": []
    },
    {
      "cell_type": "code",
      "source": [
        "for i in range(No_of_iterations):\n",
        "  grad = 20*x**3 + 6*x\n",
        "  delta_x = -eta*grad\n",
        "  x = x + delta_x\n",
        "\n"
      ],
      "metadata": {
        "id": "6GpLKQdasgf9"
      },
      "execution_count": null,
      "outputs": []
    },
    {
      "cell_type": "code",
      "source": [
        "round(x)\n"
      ],
      "metadata": {
        "colab": {
          "base_uri": "https://localhost:8080/"
        },
        "id": "PfM0I73Pta6E",
        "outputId": "1d3ae74a-44a6-4365-9a17-938bb95ba00a"
      },
      "execution_count": null,
      "outputs": [
        {
          "output_type": "execute_result",
          "data": {
            "text/plain": [
              "0"
            ]
          },
          "metadata": {},
          "execution_count": 10
        }
      ]
    },
    {
      "cell_type": "markdown",
      "source": [
        "#2"
      ],
      "metadata": {
        "id": "N_7FBS-TspSl"
      }
    },
    {
      "cell_type": "code",
      "source": [
        "import math\n",
        "\n",
        "\n",
        "eta=0.001\n",
        "No_of_iterations = 1000\n",
        "x=random.uniform(-10,10)\n",
        "y=random.uniform(-10,10)\n",
        "for i in range(No_of_iterations):\n",
        "  grad_x=6*x\n",
        "  grad_y=-5*math.exp(-y)\n",
        "  delta_x=-eta*grad_x\n",
        "  delta_y=-eta*grad_y\n",
        "  x = x + delta_x\n",
        "  y = y + delta_y"
      ],
      "metadata": {
        "id": "upw11-CIsqgP"
      },
      "execution_count": null,
      "outputs": []
    },
    {
      "cell_type": "code",
      "source": [
        "print(round(x))\n",
        "print(round(y))\n"
      ],
      "metadata": {
        "colab": {
          "base_uri": "https://localhost:8080/"
        },
        "id": "pIrQna9Ktluo",
        "outputId": "17ff2273-c70a-4f8a-d934-8a398da9eadb"
      },
      "execution_count": null,
      "outputs": [
        {
          "output_type": "stream",
          "name": "stdout",
          "text": [
            "0\n",
            "7\n"
          ]
        }
      ]
    },
    {
      "cell_type": "markdown",
      "source": [
        "#3"
      ],
      "metadata": {
        "id": "BNJmNVbttrtQ"
      }
    },
    {
      "cell_type": "code",
      "source": [
        "import math\n",
        "\n",
        "eta=0.001\n",
        "No_of_iterations = 1000\n",
        "x=random.uniform(-10,10)\n",
        "for i in range(No_of_iterations):\n",
        "    z = 1 / (1 + math.exp(-x))\n",
        "    grad = z * (1 - z)\n",
        "    delta_x = -eta * grad\n",
        "    x = x + delta_x\n"
      ],
      "metadata": {
        "id": "2W2flTqDttEB"
      },
      "execution_count": null,
      "outputs": []
    },
    {
      "cell_type": "code",
      "source": [
        "print(x)\n"
      ],
      "metadata": {
        "colab": {
          "base_uri": "https://localhost:8080/"
        },
        "id": "kNMiSaI4tzfL",
        "outputId": "2ecb66ca-7b02-4bc9-ee85-cec14e0c1017"
      },
      "execution_count": null,
      "outputs": [
        {
          "output_type": "stream",
          "name": "stdout",
          "text": [
            "-3.355936247258894\n"
          ]
        }
      ]
    },
    {
      "cell_type": "markdown",
      "source": [
        "#4"
      ],
      "metadata": {
        "id": "y0nnPYFTt651"
      }
    },
    {
      "cell_type": "code",
      "source": [
        "eta=0.001\n",
        "No_of_iterations = 1000\n",
        "m=random.uniform(-10,10)\n",
        "c=random.uniform(-10,10)\n",
        "x=2\n",
        "ep=0.5\n",
        "se=0\n"
      ],
      "metadata": {
        "id": "Ri_9MKv-t7xE"
      },
      "execution_count": null,
      "outputs": []
    },
    {
      "cell_type": "code",
      "source": [
        "for i in range(No_of_iterations):\n",
        "  grad_x=x\n",
        "  grad_y=1\n",
        "  delta_x=-eta*grad_x\n",
        "  delta_y=-eta*grad_y\n",
        "  m = m + delta_x\n",
        "  c = c + delta_y\n",
        "  y=m*x+c\n",
        "  se=min(se,(y-ep)**2)"
      ],
      "metadata": {
        "id": "03AZiN9_uAR5"
      },
      "execution_count": null,
      "outputs": []
    },
    {
      "cell_type": "code",
      "source": [
        "print(np.round(m))\n",
        "print(np.round(c))"
      ],
      "metadata": {
        "colab": {
          "base_uri": "https://localhost:8080/"
        },
        "id": "LiHm-aTfuFBw",
        "outputId": "92ff94ba-9961-4cab-bf04-80fc6401da96"
      },
      "execution_count": null,
      "outputs": [
        {
          "output_type": "stream",
          "name": "stdout",
          "text": [
            "-2.0\n",
            "2.0\n"
          ]
        }
      ]
    },
    {
      "cell_type": "code",
      "source": [
        "print(se)"
      ],
      "metadata": {
        "colab": {
          "base_uri": "https://localhost:8080/"
        },
        "id": "xW-vWbhouI4t",
        "outputId": "835da263-e83d-4306-e470-c9dc3501c3af"
      },
      "execution_count": null,
      "outputs": [
        {
          "output_type": "stream",
          "name": "stdout",
          "text": [
            "0\n"
          ]
        }
      ]
    }
  ]
}